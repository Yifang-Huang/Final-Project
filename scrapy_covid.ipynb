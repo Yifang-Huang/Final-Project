{
 "cells": [
  {
   "cell_type": "markdown",
   "metadata": {},
   "source": [
    "<font size=4 color=black >new cases data scrapy</font>"
   ]
  },
  {
   "cell_type": "code",
   "execution_count": 1,
   "metadata": {},
   "outputs": [],
   "source": [
    "import urllib.request as request\n",
    "import pandas as pd\n",
    "from pandas.core.frame import DataFrame\n",
    "import csv\n",
    "import ssl\n",
    "import matplotlib.pyplot as plt\n",
    "import numpy as np\n"
   ]
  },
  {
   "cell_type": "code",
   "execution_count": 2,
   "metadata": {},
   "outputs": [],
   "source": [
    "ssl._create_default_https_context = ssl._create_unverified_context\n",
    "r = request.urlopen('https://covid.ourworldindata.org/data/owid-covid-data.csv').read().decode('utf8').split(\"\\n\")\n",
    "reader = csv.DictReader(r)"
   ]
  },
  {
   "cell_type": "code",
   "execution_count": 3,
   "metadata": {},
   "outputs": [],
   "source": [
    "def create_csv():\n",
    "    rules = ['date','location','total_cases','new_cases','total_deaths','new_deaths','icu_patients']\n",
    "    f = open('./scrapy_covid_uk.csv','a+',newline='',encoding='utf-8')\n",
    "    csv_writer = csv.writer(f)\n",
    "    csv_writer.writerow(rules)\n",
    "    f.close"
   ]
  },
  {
   "cell_type": "code",
   "execution_count": 4,
   "metadata": {},
   "outputs": [],
   "source": [
    "create_csv()"
   ]
  },
  {
   "cell_type": "code",
   "execution_count": 5,
   "metadata": {},
   "outputs": [],
   "source": [
    "def save_to_csv(date,location,total_cases,new_cases,total_deaths,new_deaths,icu_patients):\n",
    "    f = open('./scrapy_covid_uk.csv','a+',newline='',encoding='utf-8')\n",
    "    csv_writer = csv.writer(f)\n",
    "    csv_writer.writerow([date,location,total_cases,new_cases,total_deaths,new_deaths,icu_patients])\n",
    "    f.close()"
   ]
  },
  {
   "cell_type": "code",
   "execution_count": 6,
   "metadata": {},
   "outputs": [],
   "source": [
    "for row in reader:\n",
    "    if row['location']=='United Kingdom':\n",
    "        #print(row)\n",
    "        date = row['date']\n",
    "        location = row['location']\n",
    "        total_cases = row['total_cases']\n",
    "        new_cases = row['new_cases']\n",
    "        total_deaths = row['total_deaths']\n",
    "        new_deaths = row['new_deaths']\n",
    "        icu_patients = row['icu_patients']\n",
    "        #case_fatality_rate = int(row['total_deaths'])/int(row['total_cases'])\n",
    "        save_to_csv(date,location,total_cases,new_cases,total_deaths,new_deaths,icu_patients)"
   ]
  },
  {
   "cell_type": "markdown",
   "metadata": {},
   "source": [
    "I extract the data of United Kingdom in this csv as an example."
   ]
  },
  {
   "cell_type": "code",
   "execution_count": 7,
   "metadata": {},
   "outputs": [],
   "source": [
    "covid=pd.read_csv('./scrapy_covid_uk.csv')"
   ]
  },
  {
   "cell_type": "code",
   "execution_count": 8,
   "metadata": {},
   "outputs": [
    {
     "data": {
      "text/html": [
       "<div>\n",
       "<style scoped>\n",
       "    .dataframe tbody tr th:only-of-type {\n",
       "        vertical-align: middle;\n",
       "    }\n",
       "\n",
       "    .dataframe tbody tr th {\n",
       "        vertical-align: top;\n",
       "    }\n",
       "\n",
       "    .dataframe thead th {\n",
       "        text-align: right;\n",
       "    }\n",
       "</style>\n",
       "<table border=\"1\" class=\"dataframe\">\n",
       "  <thead>\n",
       "    <tr style=\"text-align: right;\">\n",
       "      <th></th>\n",
       "      <th>date</th>\n",
       "      <th>location</th>\n",
       "      <th>total_cases</th>\n",
       "      <th>new_cases</th>\n",
       "      <th>total_deaths</th>\n",
       "      <th>new_deaths</th>\n",
       "      <th>icu_patients</th>\n",
       "    </tr>\n",
       "  </thead>\n",
       "  <tbody>\n",
       "    <tr>\n",
       "      <th>0</th>\n",
       "      <td>2020-01-31</td>\n",
       "      <td>United Kingdom</td>\n",
       "      <td>2.0</td>\n",
       "      <td>2.0</td>\n",
       "      <td>NaN</td>\n",
       "      <td>NaN</td>\n",
       "      <td>NaN</td>\n",
       "    </tr>\n",
       "    <tr>\n",
       "      <th>1</th>\n",
       "      <td>2020-02-01</td>\n",
       "      <td>United Kingdom</td>\n",
       "      <td>2.0</td>\n",
       "      <td>0.0</td>\n",
       "      <td>NaN</td>\n",
       "      <td>NaN</td>\n",
       "      <td>NaN</td>\n",
       "    </tr>\n",
       "    <tr>\n",
       "      <th>2</th>\n",
       "      <td>2020-02-02</td>\n",
       "      <td>United Kingdom</td>\n",
       "      <td>2.0</td>\n",
       "      <td>0.0</td>\n",
       "      <td>NaN</td>\n",
       "      <td>NaN</td>\n",
       "      <td>NaN</td>\n",
       "    </tr>\n",
       "    <tr>\n",
       "      <th>3</th>\n",
       "      <td>2020-02-03</td>\n",
       "      <td>United Kingdom</td>\n",
       "      <td>8.0</td>\n",
       "      <td>6.0</td>\n",
       "      <td>NaN</td>\n",
       "      <td>NaN</td>\n",
       "      <td>NaN</td>\n",
       "    </tr>\n",
       "    <tr>\n",
       "      <th>4</th>\n",
       "      <td>2020-02-04</td>\n",
       "      <td>United Kingdom</td>\n",
       "      <td>8.0</td>\n",
       "      <td>0.0</td>\n",
       "      <td>NaN</td>\n",
       "      <td>NaN</td>\n",
       "      <td>NaN</td>\n",
       "    </tr>\n",
       "    <tr>\n",
       "      <th>...</th>\n",
       "      <td>...</td>\n",
       "      <td>...</td>\n",
       "      <td>...</td>\n",
       "      <td>...</td>\n",
       "      <td>...</td>\n",
       "      <td>...</td>\n",
       "      <td>...</td>\n",
       "    </tr>\n",
       "    <tr>\n",
       "      <th>594</th>\n",
       "      <td>2021-09-16</td>\n",
       "      <td>United Kingdom</td>\n",
       "      <td>7373451.0</td>\n",
       "      <td>26619.0</td>\n",
       "      <td>135134.0</td>\n",
       "      <td>159.0</td>\n",
       "      <td>1020.0</td>\n",
       "    </tr>\n",
       "    <tr>\n",
       "      <th>595</th>\n",
       "      <td>2021-09-17</td>\n",
       "      <td>United Kingdom</td>\n",
       "      <td>7406017.0</td>\n",
       "      <td>32566.0</td>\n",
       "      <td>135314.0</td>\n",
       "      <td>180.0</td>\n",
       "      <td>NaN</td>\n",
       "    </tr>\n",
       "    <tr>\n",
       "      <th>596</th>\n",
       "      <td>2021-09-18</td>\n",
       "      <td>United Kingdom</td>\n",
       "      <td>7435493.0</td>\n",
       "      <td>29476.0</td>\n",
       "      <td>135478.0</td>\n",
       "      <td>164.0</td>\n",
       "      <td>NaN</td>\n",
       "    </tr>\n",
       "    <tr>\n",
       "      <th>597</th>\n",
       "      <td>2021-09-19</td>\n",
       "      <td>United Kingdom</td>\n",
       "      <td>7464791.0</td>\n",
       "      <td>29298.0</td>\n",
       "      <td>135539.0</td>\n",
       "      <td>61.0</td>\n",
       "      <td>NaN</td>\n",
       "    </tr>\n",
       "    <tr>\n",
       "      <th>598</th>\n",
       "      <td>2021-09-20</td>\n",
       "      <td>United Kingdom</td>\n",
       "      <td>7500734.0</td>\n",
       "      <td>35943.0</td>\n",
       "      <td>135589.0</td>\n",
       "      <td>50.0</td>\n",
       "      <td>NaN</td>\n",
       "    </tr>\n",
       "  </tbody>\n",
       "</table>\n",
       "<p>599 rows × 7 columns</p>\n",
       "</div>"
      ],
      "text/plain": [
       "           date        location  total_cases  new_cases  total_deaths  \\\n",
       "0    2020-01-31  United Kingdom          2.0        2.0           NaN   \n",
       "1    2020-02-01  United Kingdom          2.0        0.0           NaN   \n",
       "2    2020-02-02  United Kingdom          2.0        0.0           NaN   \n",
       "3    2020-02-03  United Kingdom          8.0        6.0           NaN   \n",
       "4    2020-02-04  United Kingdom          8.0        0.0           NaN   \n",
       "..          ...             ...          ...        ...           ...   \n",
       "594  2021-09-16  United Kingdom    7373451.0    26619.0      135134.0   \n",
       "595  2021-09-17  United Kingdom    7406017.0    32566.0      135314.0   \n",
       "596  2021-09-18  United Kingdom    7435493.0    29476.0      135478.0   \n",
       "597  2021-09-19  United Kingdom    7464791.0    29298.0      135539.0   \n",
       "598  2021-09-20  United Kingdom    7500734.0    35943.0      135589.0   \n",
       "\n",
       "     new_deaths  icu_patients  \n",
       "0           NaN           NaN  \n",
       "1           NaN           NaN  \n",
       "2           NaN           NaN  \n",
       "3           NaN           NaN  \n",
       "4           NaN           NaN  \n",
       "..          ...           ...  \n",
       "594       159.0        1020.0  \n",
       "595       180.0           NaN  \n",
       "596       164.0           NaN  \n",
       "597        61.0           NaN  \n",
       "598        50.0           NaN  \n",
       "\n",
       "[599 rows x 7 columns]"
      ]
     },
     "execution_count": 8,
     "metadata": {},
     "output_type": "execute_result"
    }
   ],
   "source": [
    "covid"
   ]
  },
  {
   "cell_type": "code",
   "execution_count": 9,
   "metadata": {
    "scrolled": true
   },
   "outputs": [
    {
     "data": {
      "text/html": [
       "<div>\n",
       "<style scoped>\n",
       "    .dataframe tbody tr th:only-of-type {\n",
       "        vertical-align: middle;\n",
       "    }\n",
       "\n",
       "    .dataframe tbody tr th {\n",
       "        vertical-align: top;\n",
       "    }\n",
       "\n",
       "    .dataframe thead th {\n",
       "        text-align: right;\n",
       "    }\n",
       "</style>\n",
       "<table border=\"1\" class=\"dataframe\">\n",
       "  <thead>\n",
       "    <tr style=\"text-align: right;\">\n",
       "      <th></th>\n",
       "      <th>date</th>\n",
       "      <th>location</th>\n",
       "      <th>total_cases</th>\n",
       "      <th>new_cases</th>\n",
       "      <th>total_deaths</th>\n",
       "      <th>new_deaths</th>\n",
       "      <th>icu_patients</th>\n",
       "    </tr>\n",
       "  </thead>\n",
       "  <tbody>\n",
       "    <tr>\n",
       "      <th>0</th>\n",
       "      <td>2020-01-31</td>\n",
       "      <td>United Kingdom</td>\n",
       "      <td>2.0</td>\n",
       "      <td>2.0</td>\n",
       "      <td>0.0</td>\n",
       "      <td>0.0</td>\n",
       "      <td>0.0</td>\n",
       "    </tr>\n",
       "    <tr>\n",
       "      <th>1</th>\n",
       "      <td>2020-02-01</td>\n",
       "      <td>United Kingdom</td>\n",
       "      <td>2.0</td>\n",
       "      <td>0.0</td>\n",
       "      <td>0.0</td>\n",
       "      <td>0.0</td>\n",
       "      <td>0.0</td>\n",
       "    </tr>\n",
       "    <tr>\n",
       "      <th>2</th>\n",
       "      <td>2020-02-02</td>\n",
       "      <td>United Kingdom</td>\n",
       "      <td>2.0</td>\n",
       "      <td>0.0</td>\n",
       "      <td>0.0</td>\n",
       "      <td>0.0</td>\n",
       "      <td>0.0</td>\n",
       "    </tr>\n",
       "    <tr>\n",
       "      <th>3</th>\n",
       "      <td>2020-02-03</td>\n",
       "      <td>United Kingdom</td>\n",
       "      <td>8.0</td>\n",
       "      <td>6.0</td>\n",
       "      <td>0.0</td>\n",
       "      <td>0.0</td>\n",
       "      <td>0.0</td>\n",
       "    </tr>\n",
       "    <tr>\n",
       "      <th>4</th>\n",
       "      <td>2020-02-04</td>\n",
       "      <td>United Kingdom</td>\n",
       "      <td>8.0</td>\n",
       "      <td>0.0</td>\n",
       "      <td>0.0</td>\n",
       "      <td>0.0</td>\n",
       "      <td>0.0</td>\n",
       "    </tr>\n",
       "    <tr>\n",
       "      <th>...</th>\n",
       "      <td>...</td>\n",
       "      <td>...</td>\n",
       "      <td>...</td>\n",
       "      <td>...</td>\n",
       "      <td>...</td>\n",
       "      <td>...</td>\n",
       "      <td>...</td>\n",
       "    </tr>\n",
       "    <tr>\n",
       "      <th>594</th>\n",
       "      <td>2021-09-16</td>\n",
       "      <td>United Kingdom</td>\n",
       "      <td>7373451.0</td>\n",
       "      <td>26619.0</td>\n",
       "      <td>135134.0</td>\n",
       "      <td>159.0</td>\n",
       "      <td>1020.0</td>\n",
       "    </tr>\n",
       "    <tr>\n",
       "      <th>595</th>\n",
       "      <td>2021-09-17</td>\n",
       "      <td>United Kingdom</td>\n",
       "      <td>7406017.0</td>\n",
       "      <td>32566.0</td>\n",
       "      <td>135314.0</td>\n",
       "      <td>180.0</td>\n",
       "      <td>0.0</td>\n",
       "    </tr>\n",
       "    <tr>\n",
       "      <th>596</th>\n",
       "      <td>2021-09-18</td>\n",
       "      <td>United Kingdom</td>\n",
       "      <td>7435493.0</td>\n",
       "      <td>29476.0</td>\n",
       "      <td>135478.0</td>\n",
       "      <td>164.0</td>\n",
       "      <td>0.0</td>\n",
       "    </tr>\n",
       "    <tr>\n",
       "      <th>597</th>\n",
       "      <td>2021-09-19</td>\n",
       "      <td>United Kingdom</td>\n",
       "      <td>7464791.0</td>\n",
       "      <td>29298.0</td>\n",
       "      <td>135539.0</td>\n",
       "      <td>61.0</td>\n",
       "      <td>0.0</td>\n",
       "    </tr>\n",
       "    <tr>\n",
       "      <th>598</th>\n",
       "      <td>2021-09-20</td>\n",
       "      <td>United Kingdom</td>\n",
       "      <td>7500734.0</td>\n",
       "      <td>35943.0</td>\n",
       "      <td>135589.0</td>\n",
       "      <td>50.0</td>\n",
       "      <td>0.0</td>\n",
       "    </tr>\n",
       "  </tbody>\n",
       "</table>\n",
       "<p>599 rows × 7 columns</p>\n",
       "</div>"
      ],
      "text/plain": [
       "           date        location  total_cases  new_cases  total_deaths  \\\n",
       "0    2020-01-31  United Kingdom          2.0        2.0           0.0   \n",
       "1    2020-02-01  United Kingdom          2.0        0.0           0.0   \n",
       "2    2020-02-02  United Kingdom          2.0        0.0           0.0   \n",
       "3    2020-02-03  United Kingdom          8.0        6.0           0.0   \n",
       "4    2020-02-04  United Kingdom          8.0        0.0           0.0   \n",
       "..          ...             ...          ...        ...           ...   \n",
       "594  2021-09-16  United Kingdom    7373451.0    26619.0      135134.0   \n",
       "595  2021-09-17  United Kingdom    7406017.0    32566.0      135314.0   \n",
       "596  2021-09-18  United Kingdom    7435493.0    29476.0      135478.0   \n",
       "597  2021-09-19  United Kingdom    7464791.0    29298.0      135539.0   \n",
       "598  2021-09-20  United Kingdom    7500734.0    35943.0      135589.0   \n",
       "\n",
       "     new_deaths  icu_patients  \n",
       "0           0.0           0.0  \n",
       "1           0.0           0.0  \n",
       "2           0.0           0.0  \n",
       "3           0.0           0.0  \n",
       "4           0.0           0.0  \n",
       "..          ...           ...  \n",
       "594       159.0        1020.0  \n",
       "595       180.0           0.0  \n",
       "596       164.0           0.0  \n",
       "597        61.0           0.0  \n",
       "598        50.0           0.0  \n",
       "\n",
       "[599 rows x 7 columns]"
      ]
     },
     "execution_count": 9,
     "metadata": {},
     "output_type": "execute_result"
    }
   ],
   "source": [
    "covid.fillna(0)"
   ]
  },
  {
   "cell_type": "markdown",
   "metadata": {},
   "source": [
    "<font size=4 color=black > Vaccination data </font>"
   ]
  },
  {
   "cell_type": "code",
   "execution_count": 44,
   "metadata": {},
   "outputs": [],
   "source": [
    "import urllib.request as request\n",
    "import pandas as pd\n",
    "from pandas.core.frame import DataFrame\n",
    "import csv\n",
    "import ssl\n",
    "import matplotlib.pyplot as plt\n",
    "import numpy as np\n",
    "\n"
   ]
  },
  {
   "cell_type": "code",
   "execution_count": 45,
   "metadata": {},
   "outputs": [],
   "source": [
    "ssl._create_default_https_context = ssl._create_unverified_context\n",
    "z = request.urlopen('https://raw.githubusercontent.com/owid/covid-19-data/master/public/data/vaccinations/vaccinations.csv').read().decode('utf8').split(\"\\n\")\n",
    "reader = csv.DictReader(z)"
   ]
  },
  {
   "cell_type": "code",
   "execution_count": 46,
   "metadata": {},
   "outputs": [],
   "source": [
    "def create_csv2():\n",
    "    rules = ['location','date','total_vaccinations','people_vaccinated','people_fully_vaccinated','total_vaccinations_per_hundred']\n",
    "    f = open('./Vac_covid_UK.csv','a+',newline='',encoding='utf-8')\n",
    "    csv_writer = csv.writer(f)\n",
    "    csv_writer.writerow(rules)\n",
    "    f.close"
   ]
  },
  {
   "cell_type": "code",
   "execution_count": 47,
   "metadata": {},
   "outputs": [],
   "source": [
    "create_csv2()"
   ]
  },
  {
   "cell_type": "code",
   "execution_count": 48,
   "metadata": {},
   "outputs": [],
   "source": [
    "def save_to_csv(location,date,total_vaccinations,people_vaccinated,people_fully_vaccinated,total_vaccinations_per_hundred):\n",
    "    f = open('./Vac_covid_UK.csv','a+',newline='',encoding='utf-8')\n",
    "    csv_writer = csv.writer(f)\n",
    "    csv_writer.writerow([location,date,total_vaccinations,people_vaccinated,people_fully_vaccinated,total_vaccinations_per_hundred])\n",
    "    f.close()"
   ]
  },
  {
   "cell_type": "code",
   "execution_count": 49,
   "metadata": {},
   "outputs": [],
   "source": [
    "for row in reader:\n",
    "    if row['location']=='United Kingdom':\n",
    "        date = row['date']\n",
    "        location = row['location']\n",
    "        total_vaccinations = row['total_vaccinations']\n",
    "        people_vaccinated = row['people_vaccinated']\n",
    "        people_fully_vaccinated = row['people_fully_vaccinated']\n",
    "        total_vaccinations_per_hundred = row['total_vaccinations_per_hundred']\n",
    "        #case_fatality_rate = int(row['total_deaths'])/int(row['total_cases'])\n",
    "        save_to_csv(location,date,total_vaccinations,people_vaccinated,people_fully_vaccinated,total_vaccinations_per_hundred)"
   ]
  },
  {
   "cell_type": "code",
   "execution_count": 50,
   "metadata": {},
   "outputs": [],
   "source": [
    "covid2=pd.read_csv('./Vac_covid_UK.csv')"
   ]
  },
  {
   "cell_type": "markdown",
   "metadata": {},
   "source": [
    "<font size=4 color=black > Data of other feature </font>"
   ]
  },
  {
   "cell_type": "code",
   "execution_count": 51,
   "metadata": {},
   "outputs": [],
   "source": [
    "import urllib.request as request\n",
    "import pandas as pd\n",
    "from pandas.core.frame import DataFrame\n",
    "import csv\n",
    "import ssl\n",
    "import matplotlib.pyplot as plt\n",
    "import numpy as np\n"
   ]
  },
  {
   "cell_type": "markdown",
   "metadata": {},
   "source": [
    "School_closing"
   ]
  },
  {
   "cell_type": "code",
   "execution_count": 52,
   "metadata": {},
   "outputs": [],
   "source": [
    "ssl._create_default_https_context = ssl._create_unverified_context\n",
    "sch_clo = request.urlopen('https://raw.githubusercontent.com/OxCGRT/covid-policy-tracker/master/data/timeseries/c1_school_closing.csv').read().decode('utf8').split(\"\\n\")\n",
    "stu = csv.DictReader(sch_clo)"
   ]
  },
  {
   "cell_type": "code",
   "execution_count": 53,
   "metadata": {},
   "outputs": [
    {
     "name": "stdout",
     "output_type": "stream",
     "text": [
      "                           0\n",
      "                          62\n",
      "country_code             GBR\n",
      "country_name  United Kingdom\n",
      "01Jan2020                  0\n",
      "02Jan2020                  0\n",
      "...                      ...\n",
      "16Sep2021                  1\n",
      "17Sep2021                  1\n",
      "18Sep2021                   \n",
      "19Sep2021                   \n",
      "20Sep2021                   \n",
      "\n",
      "[632 rows x 1 columns]\n"
     ]
    }
   ],
   "source": [
    "for row in stu:\n",
    "    if row['country_name']=='United Kingdom':\n",
    "        #print(row)\n",
    "        stulist =[row]\n",
    "        studf = pd.DataFrame(stulist).T\n",
    "        print(studf)"
   ]
  },
  {
   "cell_type": "code",
   "execution_count": 54,
   "metadata": {},
   "outputs": [],
   "source": [
    "def create_csvstu():\n",
    "    #rules = ['date','number']\n",
    "    f = open('./stuuk.csv','a+',newline='',encoding='utf-8')\n",
    "    csv_writer = csv.writer(f)\n",
    "    csv_writer.writerow(stu)\n",
    "    f.close"
   ]
  },
  {
   "cell_type": "code",
   "execution_count": 55,
   "metadata": {},
   "outputs": [],
   "source": [
    "create_csvstu()"
   ]
  },
  {
   "cell_type": "code",
   "execution_count": 56,
   "metadata": {},
   "outputs": [],
   "source": [
    "stu2=studf.drop(studf.index[0:3])"
   ]
  },
  {
   "cell_type": "code",
   "execution_count": 57,
   "metadata": {},
   "outputs": [],
   "source": [
    "stu2.to_csv('./stuuk.csv')"
   ]
  },
  {
   "cell_type": "markdown",
   "metadata": {},
   "source": [
    "cancel public activity"
   ]
  },
  {
   "cell_type": "code",
   "execution_count": 58,
   "metadata": {},
   "outputs": [],
   "source": [
    "ssl._create_default_https_context = ssl._create_unverified_context\n",
    "pub_act = request.urlopen('https://raw.githubusercontent.com/OxCGRT/covid-policy-tracker/master/data/timeseries/c3_cancel_public_events.csv').read().decode('utf8').split(\"\\n\")\n",
    "pub = csv.DictReader(pub_act)"
   ]
  },
  {
   "cell_type": "code",
   "execution_count": 59,
   "metadata": {},
   "outputs": [],
   "source": [
    "def create_csvpub():\n",
    "    #rules = ['date','number']\n",
    "    f = open('./pubuk.csv','a+',newline='',encoding='utf-8')\n",
    "    csv_writer = csv.writer(f)\n",
    "    csv_writer.writerow(pub)\n",
    "    f.close"
   ]
  },
  {
   "cell_type": "code",
   "execution_count": 60,
   "metadata": {},
   "outputs": [],
   "source": [
    "create_csvpub()"
   ]
  },
  {
   "cell_type": "code",
   "execution_count": 61,
   "metadata": {},
   "outputs": [],
   "source": [
    "ssl._create_default_https_context = ssl._create_unverified_context\n",
    "pub_act = request.urlopen('https://raw.githubusercontent.com/OxCGRT/covid-policy-tracker/master/data/timeseries/c3_cancel_public_events.csv').read().decode('utf8').split(\"\\n\")\n",
    "pub = csv.DictReader(pub_act)"
   ]
  },
  {
   "cell_type": "code",
   "execution_count": 62,
   "metadata": {},
   "outputs": [
    {
     "name": "stdout",
     "output_type": "stream",
     "text": [
      "                           0\n",
      "                          62\n",
      "country_code             GBR\n",
      "country_name  United Kingdom\n",
      "01Jan2020                  0\n",
      "02Jan2020                  0\n",
      "...                      ...\n",
      "16Sep2021                  1\n",
      "17Sep2021                  1\n",
      "18Sep2021                   \n",
      "19Sep2021                   \n",
      "20Sep2021                   \n",
      "\n",
      "[632 rows x 1 columns]\n"
     ]
    }
   ],
   "source": [
    "for row in pub:\n",
    "    if row['country_name']=='United Kingdom':\n",
    "        #print(row)\n",
    "        publist= [row]\n",
    "        pubdf= pd.DataFrame(publist).T\n",
    "        print(pubdf)\n",
    "        "
   ]
  },
  {
   "cell_type": "code",
   "execution_count": 63,
   "metadata": {},
   "outputs": [],
   "source": [
    "pub2=pubdf.drop(pubdf.index[0:3])"
   ]
  },
  {
   "cell_type": "code",
   "execution_count": 64,
   "metadata": {},
   "outputs": [],
   "source": [
    "pub2.to_csv('./pubuk.csv')"
   ]
  },
  {
   "cell_type": "markdown",
   "metadata": {},
   "source": [
    "restriction on gathering"
   ]
  },
  {
   "cell_type": "code",
   "execution_count": 65,
   "metadata": {},
   "outputs": [],
   "source": [
    "ssl._create_default_https_context = ssl._create_unverified_context\n",
    "ga_act = request.urlopen('https://raw.githubusercontent.com/OxCGRT/covid-policy-tracker/master/data/timeseries/c4_restrictions_on_gatherings.csv').read().decode('utf8').split(\"\\n\")\n",
    "ga = csv.DictReader(ga_act)"
   ]
  },
  {
   "cell_type": "code",
   "execution_count": 66,
   "metadata": {},
   "outputs": [
    {
     "name": "stdout",
     "output_type": "stream",
     "text": [
      "                           0\n",
      "                          62\n",
      "country_code             GBR\n",
      "country_name  United Kingdom\n",
      "01Jan2020                  0\n",
      "02Jan2020                  0\n",
      "...                      ...\n",
      "16Sep2021                  3\n",
      "17Sep2021                  3\n",
      "18Sep2021                   \n",
      "19Sep2021                   \n",
      "20Sep2021                   \n",
      "\n",
      "[632 rows x 1 columns]\n"
     ]
    }
   ],
   "source": [
    "for row in ga:\n",
    "    if row['country_name']=='United Kingdom':\n",
    "        #print(row)\n",
    "        galist= [row]\n",
    "        gadf= pd.DataFrame(galist).T\n",
    "        print(gadf)\n",
    "        "
   ]
  },
  {
   "cell_type": "code",
   "execution_count": 67,
   "metadata": {},
   "outputs": [],
   "source": [
    "def create_csvga():\n",
    "    #rules = ['date','number']\n",
    "    f = open('./gauk.csv','a+',newline='',encoding='utf-8')\n",
    "    csv_writer = csv.writer(f)\n",
    "    csv_writer.writerow(ga)\n",
    "    f.close"
   ]
  },
  {
   "cell_type": "code",
   "execution_count": 68,
   "metadata": {},
   "outputs": [],
   "source": [
    "create_csvga()"
   ]
  },
  {
   "cell_type": "code",
   "execution_count": 69,
   "metadata": {},
   "outputs": [],
   "source": [
    "pub2=gadf.drop(gadf.index[0:3])"
   ]
  },
  {
   "cell_type": "code",
   "execution_count": 70,
   "metadata": {},
   "outputs": [],
   "source": [
    "pub2.to_csv('./gauk.csv')"
   ]
  },
  {
   "cell_type": "markdown",
   "metadata": {},
   "source": [
    "international travel"
   ]
  },
  {
   "cell_type": "code",
   "execution_count": 71,
   "metadata": {},
   "outputs": [],
   "source": [
    "ssl._create_default_https_context = ssl._create_unverified_context\n",
    "inter_travel = request.urlopen('https://raw.githubusercontent.com/OxCGRT/covid-policy-tracker/master/data/timeseries/c8_internationaltravel.csv').read().decode('utf8').split(\"\\n\")\n",
    "inter = csv.DictReader(inter_travel)"
   ]
  },
  {
   "cell_type": "code",
   "execution_count": 72,
   "metadata": {},
   "outputs": [
    {
     "name": "stdout",
     "output_type": "stream",
     "text": [
      "                           0\n",
      "                          62\n",
      "country_code             GBR\n",
      "country_name  United Kingdom\n",
      "01Jan2020                  0\n",
      "02Jan2020                  0\n",
      "...                      ...\n",
      "16Sep2021                  3\n",
      "17Sep2021                  3\n",
      "18Sep2021                   \n",
      "19Sep2021                   \n",
      "20Sep2021                   \n",
      "\n",
      "[632 rows x 1 columns]\n"
     ]
    }
   ],
   "source": [
    "for row in inter:\n",
    "    if row['country_name']=='United Kingdom':\n",
    "        #print(row)\n",
    "        interlist= [row]\n",
    "        interdf= pd.DataFrame(interlist).T\n",
    "        print(interdf)"
   ]
  },
  {
   "cell_type": "code",
   "execution_count": 73,
   "metadata": {},
   "outputs": [],
   "source": [
    "def create_csvinter():\n",
    "    #rules = ['date','number']\n",
    "    f = open('./interuk.csv','a+',newline='',encoding='utf-8')\n",
    "    csv_writer = csv.writer(f)\n",
    "    csv_writer.writerow(inter)\n",
    "    f.close"
   ]
  },
  {
   "cell_type": "code",
   "execution_count": 74,
   "metadata": {},
   "outputs": [],
   "source": [
    "create_csvinter()"
   ]
  },
  {
   "cell_type": "code",
   "execution_count": 75,
   "metadata": {},
   "outputs": [],
   "source": [
    "inter2=interdf.drop(interdf.index[0:3])"
   ]
  },
  {
   "cell_type": "code",
   "execution_count": 77,
   "metadata": {},
   "outputs": [],
   "source": [
    "inter2.to_csv('./interuk.csv')"
   ]
  }
 ],
 "metadata": {
  "kernelspec": {
   "display_name": "keras",
   "language": "python",
   "name": "keras"
  },
  "language_info": {
   "codemirror_mode": {
    "name": "ipython",
    "version": 3
   },
   "file_extension": ".py",
   "mimetype": "text/x-python",
   "name": "python",
   "nbconvert_exporter": "python",
   "pygments_lexer": "ipython3",
   "version": "3.6.12"
  }
 },
 "nbformat": 4,
 "nbformat_minor": 4
}
