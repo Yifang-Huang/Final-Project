{
 "cells": [
  {
   "cell_type": "markdown",
   "id": "b295b20c",
   "metadata": {},
   "source": [
    "<font size=4 color=black >machine learning</font>"
   ]
  },
  {
   "cell_type": "code",
   "execution_count": 35,
   "id": "a5909477",
   "metadata": {},
   "outputs": [],
   "source": [
    "import pandas as pd\n",
    "import numpy as np\n",
    "from sklearn.model_selection import train_test_split as tts\n",
    "from sklearn.model_selection import cross_val_score\n",
    "from sklearn.linear_model import Lasso\n",
    "from sklearn.tree import DecisionTreeRegressor\n",
    "from sklearn.svm import SVR\n",
    "from sklearn.metrics import mean_squared_error\n",
    "from sklearn.neighbors import KNeighborsRegressor\n",
    "from sklearn.inspection import permutation_importance\n",
    "from matplotlib import pyplot\n",
    "from sklearn.datasets import make_regression\n",
    "from sklearn.dummy import DummyRegressor\n",
    "from sklearn.linear_model import LinearRegression\n",
    "from sklearn.preprocessing import StandardScaler\n",
    "from sklearn.inspection import permutation_importance\n",
    "import seaborn as sns\n",
    "import matplotlib.pyplot as plt\n",
    "from sklearn.metrics import mean_squared_log_error, make_scorer\n",
    "from sklearn.metrics import r2_score as r2_score\n",
    "from sklearn.metrics import mean_squared_error \n",
    "from sklearn.metrics import mean_absolute_error \n",
    "from sklearn.model_selection import GridSearchCV\n",
    "from sklearn.model_selection import KFold\n",
    "import lightgbm as lgb"
   ]
  },
  {
   "cell_type": "markdown",
   "id": "0b35bf70",
   "metadata": {},
   "source": [
    "<font size=3 color=black > data prepare </font>"
   ]
  },
  {
   "cell_type": "code",
   "execution_count": 36,
   "id": "5f423767",
   "metadata": {},
   "outputs": [],
   "source": [
    "def show_feature_importance_linear(model):\n",
    "\n",
    "    importances = abs(model.coef_)\n",
    "    indices = np.argsort(importances)[::-1]\n",
    "\n",
    "    # Print the feature ranking\n",
    "    print(\"Feature ranking:\")\n",
    "\n",
    "    for f in range(X.shape[1]):\n",
    "        print(\"{}, Feature: {}, Importance: {}\".format(f + 1, X.columns[indices[f]], importances[indices[f]]))\n",
    "    # Plot the feature importances of the forest\n",
    "    \n",
    "    \n",
    "    plt.figure(figsize=(10,5))\n",
    "    fig, ax = plt.subplots()\n",
    "    ax.spines['right'].set_visible(False)\n",
    "    ax.spines['top'].set_visible(False)\n",
    "    plt.grid(color='#A9A9A9', linestyle='--', linewidth=1, alpha=0.3,axis= 'x')\n",
    "    plt.title(\"Feature importances_UK_Linear Regression\",fontsize=14)\n",
    "    plt.barh(range(X.shape[1]), importances[indices], color=\"#FFFFFF\", align=\"center\",hatch='////',edgecolor='black',linestyle='-',linewidth = 1)\n",
    "    plt.yticks(range(X.shape[1]),  X.columns[indices],fontsize = 13)\n",
    "    #plt.xlim([-1, X.shape[1]])\n",
    "    plt.show()"
   ]
  },
  {
   "cell_type": "code",
   "execution_count": 37,
   "id": "853ff6b0",
   "metadata": {},
   "outputs": [],
   "source": [
    "def show_feature_importance_dec(model):\n",
    "\n",
    "    importances = model.feature_importances_\n",
    "    indices = np.argsort(importances)[::-1]\n",
    "\n",
    "    # Print the feature ranking\n",
    "    print(\"Feature ranking:\")\n",
    "\n",
    "    for f in range(X.shape[1]):\n",
    "        print(\"{}, Feature: {}, Importance: {}\".format(f + 1, X.columns[indices[f]], importances[indices[f]]))\n",
    "\n",
    "    # Plot the feature importances of the forest\n",
    "#     fig, ax = plt.subplots()\n",
    "#     ax.spines['right'].set_visible(False)\n",
    "#     ax.spines['top'].set_visible(False)\n",
    "    plt.figure(figsize=(10,5))\n",
    "    fig, ax = plt.subplots()\n",
    "    ax.spines['right'].set_visible(False)\n",
    "    ax.spines['top'].set_visible(False)\n",
    "    plt.grid(color='#A9A9A9', linestyle='--', linewidth=1, alpha=0.3,axis= 'x')\n",
    "    plt.title(\"Feature importances_UK_Decision Tree Regression\",fontsize=14)\n",
    "    plt.barh(range(X.shape[1]), importances[indices], color=\"#FFFFFF\", align=\"center\",hatch='////',edgecolor='black',linestyle='-',linewidth = 1)\n",
    "    plt.yticks(range(X.shape[1]),  X.columns[indices],fontsize = 13)\n",
    "    #plt.xlim([-1, X.shape[1]])\n",
    "    plt.show()"
   ]
  },
  {
   "cell_type": "code",
   "execution_count": 38,
   "id": "815feb1c",
   "metadata": {},
   "outputs": [],
   "source": [
    "def show_feature_importance_knn(model):\n",
    "\n",
    "    result = permutation_importance(model, X, y, scoring='neg_mean_squared_error')#neg_mean_squared_error\n",
    "    importances = result.importances_mean\n",
    "    indices = np.argsort(importances)[::-1]\n",
    "\n",
    "    # Print the feature ranking\n",
    "    print(\"Feature ranking:\")\n",
    "\n",
    "    for f in range(X.shape[1]):\n",
    "        print(\"{}, Feature: {}, Importance: {}\".format(f + 1, X.columns[indices[f]], importances[indices[f]]))\n",
    "    plt.figure(figsize=(10,5))\n",
    "    fig, ax = plt.subplots()\n",
    "    ax.spines['right'].set_visible(False)\n",
    "    ax.spines['top'].set_visible(False)\n",
    "    plt.grid(color='#A9A9A9', linestyle='--', linewidth=1, alpha=0.3,axis= 'x')\n",
    "    plt.title(\"Feature importances_UK_KNeighbor Regression\",fontsize=14)\n",
    "    plt.barh(range(X.shape[1]), importances[indices], color=\"#FFFFFF\", align=\"center\",hatch='////',edgecolor='black',linestyle='-',linewidth = 1)\n",
    "    plt.yticks(range(X.shape[1]),  X.columns[indices],fontsize = 13)\n",
    "    #plt.xlim([-1, X.shape[1]])"
   ]
  },
  {
   "cell_type": "code",
   "execution_count": 39,
   "id": "132941e5",
   "metadata": {},
   "outputs": [],
   "source": [
    "def show_feature_importance_LGBMR(model):\n",
    "\n",
    "    importances = model.feature_importances_\n",
    "    indices = np.argsort(importances)[::-1]\n",
    "\n",
    "    # Print the feature ranking\n",
    "    print(\"Feature ranking:\")\n",
    "\n",
    "    for f in range(X.shape[1]):\n",
    "        print(\"{}, Feature: {}, Importance: {}\".format(f + 1, X.columns[indices[f]], importances[indices[f]]))\n",
    "\n",
    "        plt.figure(figsize=(10,5))\n",
    "    fig, ax = plt.subplots()\n",
    "    ax.spines['right'].set_visible(False)\n",
    "    ax.spines['top'].set_visible(False)\n",
    "    plt.grid(color='#A9A9A9', linestyle='--', linewidth=1, alpha=0.3,axis= 'x')\n",
    "    plt.title(\"Feature importances_UK_LGBM Regressor\",fontsize=14)\n",
    "    plt.barh(range(X.shape[1]), importances[indices], color=\"#FFFFFF\", align=\"center\",hatch='////',edgecolor='black',linestyle='-',linewidth = 1)\n",
    "    plt.yticks(range(X.shape[1]),  X.columns[indices],fontsize = 13)"
   ]
  },
  {
   "cell_type": "markdown",
   "id": "058589e7",
   "metadata": {},
   "source": [
    "Data preprocessing"
   ]
  },
  {
   "cell_type": "code",
   "execution_count": 40,
   "id": "4aaff6d6",
   "metadata": {},
   "outputs": [],
   "source": [
    "data = pd.read_csv('./data_UK.csv')"
   ]
  },
  {
   "cell_type": "code",
   "execution_count": 41,
   "id": "79f5a218",
   "metadata": {},
   "outputs": [
    {
     "data": {
      "text/html": [
       "<div>\n",
       "<style scoped>\n",
       "    .dataframe tbody tr th:only-of-type {\n",
       "        vertical-align: middle;\n",
       "    }\n",
       "\n",
       "    .dataframe tbody tr th {\n",
       "        vertical-align: top;\n",
       "    }\n",
       "\n",
       "    .dataframe thead th {\n",
       "        text-align: right;\n",
       "    }\n",
       "</style>\n",
       "<table border=\"1\" class=\"dataframe\">\n",
       "  <thead>\n",
       "    <tr style=\"text-align: right;\">\n",
       "      <th></th>\n",
       "      <th>date</th>\n",
       "      <th>R_t-estimate</th>\n",
       "      <th>school_closing</th>\n",
       "      <th>cancel_public_events</th>\n",
       "      <th>restrictions_on_gatherings</th>\n",
       "      <th>internationaltravel</th>\n",
       "      <th>temperature</th>\n",
       "      <th>windspeed</th>\n",
       "      <th>full_vaccination</th>\n",
       "      <th>visible</th>\n",
       "      <th>new_deaths</th>\n",
       "    </tr>\n",
       "  </thead>\n",
       "  <tbody>\n",
       "    <tr>\n",
       "      <th>1</th>\n",
       "      <td>2020/3/10</td>\n",
       "      <td>1.49</td>\n",
       "      <td>0</td>\n",
       "      <td>1</td>\n",
       "      <td>0</td>\n",
       "      <td>0</td>\n",
       "      <td>54.8</td>\n",
       "      <td>16.1</td>\n",
       "      <td>0.00</td>\n",
       "      <td>5.9</td>\n",
       "      <td>4</td>\n",
       "    </tr>\n",
       "    <tr>\n",
       "      <th>2</th>\n",
       "      <td>2020/3/11</td>\n",
       "      <td>1.48</td>\n",
       "      <td>0</td>\n",
       "      <td>1</td>\n",
       "      <td>0</td>\n",
       "      <td>0</td>\n",
       "      <td>51.9</td>\n",
       "      <td>12.8</td>\n",
       "      <td>0.00</td>\n",
       "      <td>6.7</td>\n",
       "      <td>0</td>\n",
       "    </tr>\n",
       "    <tr>\n",
       "      <th>3</th>\n",
       "      <td>2020/3/12</td>\n",
       "      <td>1.41</td>\n",
       "      <td>0</td>\n",
       "      <td>1</td>\n",
       "      <td>0</td>\n",
       "      <td>0</td>\n",
       "      <td>45.6</td>\n",
       "      <td>17.6</td>\n",
       "      <td>0.00</td>\n",
       "      <td>6.7</td>\n",
       "      <td>2</td>\n",
       "    </tr>\n",
       "    <tr>\n",
       "      <th>4</th>\n",
       "      <td>2020/3/13</td>\n",
       "      <td>1.24</td>\n",
       "      <td>0</td>\n",
       "      <td>1</td>\n",
       "      <td>0</td>\n",
       "      <td>0</td>\n",
       "      <td>47.0</td>\n",
       "      <td>11.0</td>\n",
       "      <td>0.00</td>\n",
       "      <td>8.2</td>\n",
       "      <td>1</td>\n",
       "    </tr>\n",
       "    <tr>\n",
       "      <th>5</th>\n",
       "      <td>2020/3/14</td>\n",
       "      <td>1.09</td>\n",
       "      <td>0</td>\n",
       "      <td>1</td>\n",
       "      <td>0</td>\n",
       "      <td>0</td>\n",
       "      <td>49.0</td>\n",
       "      <td>10.1</td>\n",
       "      <td>0.00</td>\n",
       "      <td>7.9</td>\n",
       "      <td>19</td>\n",
       "    </tr>\n",
       "    <tr>\n",
       "      <th>...</th>\n",
       "      <td>...</td>\n",
       "      <td>...</td>\n",
       "      <td>...</td>\n",
       "      <td>...</td>\n",
       "      <td>...</td>\n",
       "      <td>...</td>\n",
       "      <td>...</td>\n",
       "      <td>...</td>\n",
       "      <td>...</td>\n",
       "      <td>...</td>\n",
       "      <td>...</td>\n",
       "    </tr>\n",
       "    <tr>\n",
       "      <th>527</th>\n",
       "      <td>2021/8/18</td>\n",
       "      <td>1.51</td>\n",
       "      <td>1</td>\n",
       "      <td>1</td>\n",
       "      <td>4</td>\n",
       "      <td>3</td>\n",
       "      <td>65.0</td>\n",
       "      <td>9.1</td>\n",
       "      <td>129.92</td>\n",
       "      <td>6.3</td>\n",
       "      <td>111</td>\n",
       "    </tr>\n",
       "    <tr>\n",
       "      <th>528</th>\n",
       "      <td>2021/8/19</td>\n",
       "      <td>1.42</td>\n",
       "      <td>1</td>\n",
       "      <td>1</td>\n",
       "      <td>4</td>\n",
       "      <td>3</td>\n",
       "      <td>62.9</td>\n",
       "      <td>7.1</td>\n",
       "      <td>130.26</td>\n",
       "      <td>6.9</td>\n",
       "      <td>114</td>\n",
       "    </tr>\n",
       "    <tr>\n",
       "      <th>529</th>\n",
       "      <td>2021/8/20</td>\n",
       "      <td>1.13</td>\n",
       "      <td>1</td>\n",
       "      <td>1</td>\n",
       "      <td>4</td>\n",
       "      <td>3</td>\n",
       "      <td>63.5</td>\n",
       "      <td>6.1</td>\n",
       "      <td>130.60</td>\n",
       "      <td>6.5</td>\n",
       "      <td>114</td>\n",
       "    </tr>\n",
       "    <tr>\n",
       "      <th>530</th>\n",
       "      <td>2021/8/21</td>\n",
       "      <td>0.87</td>\n",
       "      <td>1</td>\n",
       "      <td>1</td>\n",
       "      <td>4</td>\n",
       "      <td>3</td>\n",
       "      <td>63.7</td>\n",
       "      <td>5.0</td>\n",
       "      <td>130.99</td>\n",
       "      <td>6.9</td>\n",
       "      <td>104</td>\n",
       "    </tr>\n",
       "    <tr>\n",
       "      <th>531</th>\n",
       "      <td>2021/8/22</td>\n",
       "      <td>0.76</td>\n",
       "      <td>1</td>\n",
       "      <td>1</td>\n",
       "      <td>4</td>\n",
       "      <td>3</td>\n",
       "      <td>65.1</td>\n",
       "      <td>6.3</td>\n",
       "      <td>131.22</td>\n",
       "      <td>6.6</td>\n",
       "      <td>49</td>\n",
       "    </tr>\n",
       "  </tbody>\n",
       "</table>\n",
       "<p>531 rows × 11 columns</p>\n",
       "</div>"
      ],
      "text/plain": [
       "          date  R_t-estimate  school_closing  cancel_public_events  \\\n",
       "1    2020/3/10          1.49               0                     1   \n",
       "2    2020/3/11          1.48               0                     1   \n",
       "3    2020/3/12          1.41               0                     1   \n",
       "4    2020/3/13          1.24               0                     1   \n",
       "5    2020/3/14          1.09               0                     1   \n",
       "..         ...           ...             ...                   ...   \n",
       "527  2021/8/18          1.51               1                     1   \n",
       "528  2021/8/19          1.42               1                     1   \n",
       "529  2021/8/20          1.13               1                     1   \n",
       "530  2021/8/21          0.87               1                     1   \n",
       "531  2021/8/22          0.76               1                     1   \n",
       "\n",
       "     restrictions_on_gatherings  internationaltravel  temperature  windspeed  \\\n",
       "1                             0                    0         54.8       16.1   \n",
       "2                             0                    0         51.9       12.8   \n",
       "3                             0                    0         45.6       17.6   \n",
       "4                             0                    0         47.0       11.0   \n",
       "5                             0                    0         49.0       10.1   \n",
       "..                          ...                  ...          ...        ...   \n",
       "527                           4                    3         65.0        9.1   \n",
       "528                           4                    3         62.9        7.1   \n",
       "529                           4                    3         63.5        6.1   \n",
       "530                           4                    3         63.7        5.0   \n",
       "531                           4                    3         65.1        6.3   \n",
       "\n",
       "     full_vaccination  visible  new_deaths  \n",
       "1                0.00      5.9           4  \n",
       "2                0.00      6.7           0  \n",
       "3                0.00      6.7           2  \n",
       "4                0.00      8.2           1  \n",
       "5                0.00      7.9          19  \n",
       "..                ...      ...         ...  \n",
       "527            129.92      6.3         111  \n",
       "528            130.26      6.9         114  \n",
       "529            130.60      6.5         114  \n",
       "530            130.99      6.9         104  \n",
       "531            131.22      6.6          49  \n",
       "\n",
       "[531 rows x 11 columns]"
      ]
     },
     "execution_count": 41,
     "metadata": {},
     "output_type": "execute_result"
    }
   ],
   "source": [
    "data.drop([0])"
   ]
  },
  {
   "cell_type": "code",
   "execution_count": 42,
   "id": "f7403fcd",
   "metadata": {},
   "outputs": [],
   "source": [
    "traindata=data.drop(['date'],axis=1)"
   ]
  },
  {
   "cell_type": "code",
   "execution_count": 43,
   "id": "68ec4fef",
   "metadata": {},
   "outputs": [
    {
     "data": {
      "text/html": [
       "<div>\n",
       "<style scoped>\n",
       "    .dataframe tbody tr th:only-of-type {\n",
       "        vertical-align: middle;\n",
       "    }\n",
       "\n",
       "    .dataframe tbody tr th {\n",
       "        vertical-align: top;\n",
       "    }\n",
       "\n",
       "    .dataframe thead th {\n",
       "        text-align: right;\n",
       "    }\n",
       "</style>\n",
       "<table border=\"1\" class=\"dataframe\">\n",
       "  <thead>\n",
       "    <tr style=\"text-align: right;\">\n",
       "      <th></th>\n",
       "      <th>R_t-estimate</th>\n",
       "      <th>school_closing</th>\n",
       "      <th>cancel_public_events</th>\n",
       "      <th>restrictions_on_gatherings</th>\n",
       "      <th>internationaltravel</th>\n",
       "      <th>temperature</th>\n",
       "      <th>windspeed</th>\n",
       "      <th>full_vaccination</th>\n",
       "      <th>visible</th>\n",
       "      <th>new_deaths</th>\n",
       "    </tr>\n",
       "  </thead>\n",
       "  <tbody>\n",
       "    <tr>\n",
       "      <th>count</th>\n",
       "      <td>532.000000</td>\n",
       "      <td>532.000000</td>\n",
       "      <td>532.000000</td>\n",
       "      <td>532.000000</td>\n",
       "      <td>532.000000</td>\n",
       "      <td>532.000000</td>\n",
       "      <td>532.000000</td>\n",
       "      <td>532.000000</td>\n",
       "      <td>532.000000</td>\n",
       "      <td>532.000000</td>\n",
       "    </tr>\n",
       "    <tr>\n",
       "      <th>mean</th>\n",
       "      <td>1.069041</td>\n",
       "      <td>2.035714</td>\n",
       "      <td>1.084586</td>\n",
       "      <td>3.892857</td>\n",
       "      <td>2.112782</td>\n",
       "      <td>54.294737</td>\n",
       "      <td>7.478759</td>\n",
       "      <td>30.653120</td>\n",
       "      <td>6.373684</td>\n",
       "      <td>248.037594</td>\n",
       "    </tr>\n",
       "    <tr>\n",
       "      <th>std</th>\n",
       "      <td>0.401477</td>\n",
       "      <td>0.974555</td>\n",
       "      <td>0.278527</td>\n",
       "      <td>0.642050</td>\n",
       "      <td>1.062308</td>\n",
       "      <td>10.276135</td>\n",
       "      <td>3.186704</td>\n",
       "      <td>44.504767</td>\n",
       "      <td>0.844403</td>\n",
       "      <td>346.934846</td>\n",
       "    </tr>\n",
       "    <tr>\n",
       "      <th>min</th>\n",
       "      <td>0.130000</td>\n",
       "      <td>0.000000</td>\n",
       "      <td>1.000000</td>\n",
       "      <td>0.000000</td>\n",
       "      <td>0.000000</td>\n",
       "      <td>29.700000</td>\n",
       "      <td>1.600000</td>\n",
       "      <td>0.000000</td>\n",
       "      <td>1.500000</td>\n",
       "      <td>0.000000</td>\n",
       "    </tr>\n",
       "    <tr>\n",
       "      <th>25%</th>\n",
       "      <td>0.800000</td>\n",
       "      <td>1.000000</td>\n",
       "      <td>1.000000</td>\n",
       "      <td>4.000000</td>\n",
       "      <td>2.000000</td>\n",
       "      <td>46.800000</td>\n",
       "      <td>5.000000</td>\n",
       "      <td>0.000000</td>\n",
       "      <td>6.200000</td>\n",
       "      <td>18.000000</td>\n",
       "    </tr>\n",
       "    <tr>\n",
       "      <th>50%</th>\n",
       "      <td>1.070000</td>\n",
       "      <td>2.000000</td>\n",
       "      <td>1.000000</td>\n",
       "      <td>4.000000</td>\n",
       "      <td>2.000000</td>\n",
       "      <td>54.100000</td>\n",
       "      <td>7.000000</td>\n",
       "      <td>0.000000</td>\n",
       "      <td>6.500000</td>\n",
       "      <td>76.500000</td>\n",
       "    </tr>\n",
       "    <tr>\n",
       "      <th>75%</th>\n",
       "      <td>1.350000</td>\n",
       "      <td>3.000000</td>\n",
       "      <td>1.000000</td>\n",
       "      <td>4.000000</td>\n",
       "      <td>3.000000</td>\n",
       "      <td>62.725000</td>\n",
       "      <td>9.400000</td>\n",
       "      <td>58.515000</td>\n",
       "      <td>6.700000</td>\n",
       "      <td>374.500000</td>\n",
       "    </tr>\n",
       "    <tr>\n",
       "      <th>max</th>\n",
       "      <td>2.240000</td>\n",
       "      <td>3.000000</td>\n",
       "      <td>2.000000</td>\n",
       "      <td>4.000000</td>\n",
       "      <td>3.000000</td>\n",
       "      <td>82.800000</td>\n",
       "      <td>21.500000</td>\n",
       "      <td>131.220000</td>\n",
       "      <td>14.900000</td>\n",
       "      <td>1826.000000</td>\n",
       "    </tr>\n",
       "  </tbody>\n",
       "</table>\n",
       "</div>"
      ],
      "text/plain": [
       "       R_t-estimate  school_closing  cancel_public_events  \\\n",
       "count    532.000000      532.000000            532.000000   \n",
       "mean       1.069041        2.035714              1.084586   \n",
       "std        0.401477        0.974555              0.278527   \n",
       "min        0.130000        0.000000              1.000000   \n",
       "25%        0.800000        1.000000              1.000000   \n",
       "50%        1.070000        2.000000              1.000000   \n",
       "75%        1.350000        3.000000              1.000000   \n",
       "max        2.240000        3.000000              2.000000   \n",
       "\n",
       "       restrictions_on_gatherings  internationaltravel  temperature  \\\n",
       "count                  532.000000           532.000000   532.000000   \n",
       "mean                     3.892857             2.112782    54.294737   \n",
       "std                      0.642050             1.062308    10.276135   \n",
       "min                      0.000000             0.000000    29.700000   \n",
       "25%                      4.000000             2.000000    46.800000   \n",
       "50%                      4.000000             2.000000    54.100000   \n",
       "75%                      4.000000             3.000000    62.725000   \n",
       "max                      4.000000             3.000000    82.800000   \n",
       "\n",
       "        windspeed  full_vaccination     visible   new_deaths  \n",
       "count  532.000000        532.000000  532.000000   532.000000  \n",
       "mean     7.478759         30.653120    6.373684   248.037594  \n",
       "std      3.186704         44.504767    0.844403   346.934846  \n",
       "min      1.600000          0.000000    1.500000     0.000000  \n",
       "25%      5.000000          0.000000    6.200000    18.000000  \n",
       "50%      7.000000          0.000000    6.500000    76.500000  \n",
       "75%      9.400000         58.515000    6.700000   374.500000  \n",
       "max     21.500000        131.220000   14.900000  1826.000000  "
      ]
     },
     "execution_count": 43,
     "metadata": {},
     "output_type": "execute_result"
    }
   ],
   "source": [
    "traindata.describe()"
   ]
  },
  {
   "cell_type": "code",
   "execution_count": 44,
   "id": "9f7ff650",
   "metadata": {},
   "outputs": [
    {
     "data": {
      "text/plain": [
       "<AxesSubplot:>"
      ]
     },
     "execution_count": 44,
     "metadata": {},
     "output_type": "execute_result"
    },
    {
     "data": {
      "image/png": "[encoded data removed]",
      "text/plain": [
       "<Figure size 504x504 with 2 Axes>"
      ]
     },
     "metadata": {
      "needs_background": "light"
     },
     "output_type": "display_data"
    }
   ],
   "source": [
    "correlation_matrix = traindata.corr('pearson')\n",
    "plt.figure(figsize=(7,7))\n",
    "correlation_matrix_display = sns.heatmap(correlation_matrix,annot=True,cmap=\"RdYlGn\")\n",
    "correlation_matrix_display"
   ]
  },
  {
   "cell_type": "code",
   "execution_count": 45,
   "id": "add119be",
   "metadata": {},
   "outputs": [
    {
     "data": {
      "text/html": [
       "<div>\n",
       "<style scoped>\n",
       "    .dataframe tbody tr th:only-of-type {\n",
       "        vertical-align: middle;\n",
       "    }\n",
       "\n",
       "    .dataframe tbody tr th {\n",
       "        vertical-align: top;\n",
       "    }\n",
       "\n",
       "    .dataframe thead th {\n",
       "        text-align: right;\n",
       "    }\n",
       "</style>\n",
       "<table border=\"1\" class=\"dataframe\">\n",
       "  <thead>\n",
       "    <tr style=\"text-align: right;\">\n",
       "      <th></th>\n",
       "      <th>school_closing</th>\n",
       "      <th>cancel_public_events</th>\n",
       "      <th>restrictions_on_gatherings</th>\n",
       "      <th>internationaltravel</th>\n",
       "      <th>temperature</th>\n",
       "      <th>windspeed</th>\n",
       "      <th>full_vaccination</th>\n",
       "      <th>visible</th>\n",
       "    </tr>\n",
       "  </thead>\n",
       "  <tbody>\n",
       "    <tr>\n",
       "      <th>13</th>\n",
       "      <td>3</td>\n",
       "      <td>1</td>\n",
       "      <td>0</td>\n",
       "      <td>0</td>\n",
       "      <td>44.3</td>\n",
       "      <td>9.6</td>\n",
       "      <td>0.00</td>\n",
       "      <td>6.6</td>\n",
       "    </tr>\n",
       "    <tr>\n",
       "      <th>104</th>\n",
       "      <td>3</td>\n",
       "      <td>1</td>\n",
       "      <td>4</td>\n",
       "      <td>2</td>\n",
       "      <td>63.0</td>\n",
       "      <td>10.7</td>\n",
       "      <td>0.00</td>\n",
       "      <td>6.7</td>\n",
       "    </tr>\n",
       "    <tr>\n",
       "      <th>188</th>\n",
       "      <td>1</td>\n",
       "      <td>1</td>\n",
       "      <td>4</td>\n",
       "      <td>2</td>\n",
       "      <td>64.9</td>\n",
       "      <td>7.3</td>\n",
       "      <td>0.00</td>\n",
       "      <td>6.5</td>\n",
       "    </tr>\n",
       "    <tr>\n",
       "      <th>480</th>\n",
       "      <td>1</td>\n",
       "      <td>2</td>\n",
       "      <td>4</td>\n",
       "      <td>3</td>\n",
       "      <td>65.9</td>\n",
       "      <td>4.9</td>\n",
       "      <td>115.17</td>\n",
       "      <td>5.9</td>\n",
       "    </tr>\n",
       "    <tr>\n",
       "      <th>33</th>\n",
       "      <td>3</td>\n",
       "      <td>1</td>\n",
       "      <td>4</td>\n",
       "      <td>0</td>\n",
       "      <td>61.6</td>\n",
       "      <td>4.2</td>\n",
       "      <td>0.00</td>\n",
       "      <td>5.9</td>\n",
       "    </tr>\n",
       "  </tbody>\n",
       "</table>\n",
       "</div>"
      ],
      "text/plain": [
       "     school_closing  cancel_public_events  restrictions_on_gatherings  \\\n",
       "13                3                     1                           0   \n",
       "104               3                     1                           4   \n",
       "188               1                     1                           4   \n",
       "480               1                     2                           4   \n",
       "33                3                     1                           4   \n",
       "\n",
       "     internationaltravel  temperature  windspeed  full_vaccination  visible  \n",
       "13                     0         44.3        9.6              0.00      6.6  \n",
       "104                    2         63.0       10.7              0.00      6.7  \n",
       "188                    2         64.9        7.3              0.00      6.5  \n",
       "480                    3         65.9        4.9            115.17      5.9  \n",
       "33                     0         61.6        4.2              0.00      5.9  "
      ]
     },
     "metadata": {},
     "output_type": "display_data"
    },
    {
     "name": "stdout",
     "output_type": "stream",
     "text": [
      "(532, 8) (532, 1)\n"
     ]
    }
   ],
   "source": [
    "y = traindata[[\"R_t-estimate\"]]\n",
    "X = traindata.drop([\"R_t-estimate\",\"new_deaths\"],axis=1)\n",
    "\n",
    "display(X.sample(5))\n",
    "\n",
    "print(X.shape, y.shape)"
   ]
  },
  {
   "cell_type": "code",
   "execution_count": 46,
   "id": "5e1a667a",
   "metadata": {},
   "outputs": [],
   "source": [
    "X_train, X_val, y_train, y_val = tts(X, y, test_size= 0.2, random_state=42, shuffle=True)"
   ]
  },
  {
   "cell_type": "markdown",
   "id": "358200fa",
   "metadata": {},
   "source": [
    "<font size=3 color=black >Dummy Regression</font>"
   ]
  },
  {
   "cell_type": "code",
   "execution_count": 47,
   "id": "f69cefb4",
   "metadata": {},
   "outputs": [
    {
     "name": "stdout",
     "output_type": "stream",
     "text": [
      "dummy_mse= 0.1860927655039938\n",
      "dummy_r2= -0.00017475898560737058\n",
      "dummy_mae= 0.3499982407916437\n"
     ]
    }
   ],
   "source": [
    "dummy_regr = DummyRegressor()\n",
    "dummy_regr.fit(X_train, y_train)\n",
    "y_pre_dummy = dummy_regr.predict(X_val)\n",
    "dummy_mse=mean_squared_error(y_val, y_pre_dummy)\n",
    "dummy_r2=r2_score(y_val, y_pre_dummy)\n",
    "dummy_mae = mean_absolute_error(y_val, y_pre_dummy)\n",
    "print('dummy_mse=',dummy_mse)\n",
    "print('dummy_r2=',dummy_r2)\n",
    "print('dummy_mae=',dummy_mae)"
   ]
  },
  {
   "cell_type": "markdown",
   "id": "54e18d01",
   "metadata": {},
   "source": [
    "<font size=3 color=black > Linear Regression</font>"
   ]
  },
  {
   "cell_type": "code",
   "execution_count": 48,
   "id": "0e9cbf97",
   "metadata": {},
   "outputs": [
    {
     "name": "stdout",
     "output_type": "stream",
     "text": [
      "Validation Infected set Mean_Squared_Error: 0.18638769372488334,R-Squared:-0.0017598811232002465,mean_absolute_error:0.3468201196552114\n"
     ]
    }
   ],
   "source": [
    "model = LinearRegression()\n",
    "# fit the model\n",
    "model.fit(X_train, y_train[\"R_t-estimate\"])\n",
    "#rmsle = rmsle(y_val[\"R_t-estimate\"], model.predict(X_val))\n",
    "mse=mean_squared_error(y_val[\"R_t-estimate\"], model.predict(X_val))\n",
    "r2 = r2_score(y_val[\"R_t-estimate\"], model.predict(X_val))\n",
    "mae = mean_absolute_error (y_val[\"R_t-estimate\"], model.predict(X_val))\n",
    "print(\"Validation Infected set Mean_Squared_Error: {},R-Squared:{},mean_absolute_error:{}\".format(mse,r2,mae))"
   ]
  },
  {
   "cell_type": "code",
   "execution_count": 49,
   "id": "dfc6e4bc",
   "metadata": {},
   "outputs": [
    {
     "name": "stdout",
     "output_type": "stream",
     "text": [
      "Feature ranking:\n",
      "1, Feature: cancel_public_events, Importance: 0.12760651519181726\n",
      "2, Feature: restrictions_on_gatherings, Importance: 0.04876045814054527\n",
      "3, Feature: internationaltravel, Importance: 0.020805742467574138\n",
      "4, Feature: school_closing, Importance: 0.008099584203446527\n",
      "5, Feature: visible, Importance: 0.006347795882614114\n",
      "6, Feature: temperature, Importance: 0.0035910197504560918\n",
      "7, Feature: windspeed, Importance: 0.0023720816881537877\n",
      "8, Feature: full_vaccination, Importance: 0.0005886976037854173\n"
     ]
    },
    {
     "data": {
      "text/plain": [
       "<Figure size 720x360 with 0 Axes>"
      ]
     },
     "metadata": {},
     "output_type": "display_data"
    },
    {
     "data": {
      "image/png": "[encoded data removed]",
      "text/plain": [
       "<Figure size 432x288 with 1 Axes>"
      ]
     },
     "metadata": {
      "needs_background": "light"
     },
     "output_type": "display_data"
    }
   ],
   "source": [
    "show_feature_importance_linear(model)"
   ]
  },
  {
   "cell_type": "markdown",
   "id": "42c4460f",
   "metadata": {},
   "source": [
    "<font size=3 color=black > SVM Regression </font>"
   ]
  },
  {
   "cell_type": "code",
   "execution_count": 50,
   "id": "ae32f8fa",
   "metadata": {},
   "outputs": [
    {
     "data": {
      "text/plain": [
       "GridSearchCV(estimator=SVR(),\n",
       "             param_grid={'C': [0.1, 1, 10, 100],\n",
       "                         'epsilon': [0.1, 0.2, 0.3, 0.4],\n",
       "                         'gamma': [0.1, 0.01, 0.001, 0.0001, 1e-05],\n",
       "                         'kernel': ['rbf', 'sigmoid']})"
      ]
     },
     "execution_count": 50,
     "metadata": {},
     "output_type": "execute_result"
    }
   ],
   "source": [
    "kfold = KFold(n_splits=3, shuffle=True)\n",
    "parameters = {'kernel': (['rbf','sigmoid']), 'C':[0.1,1,10,100],'gamma': [1e-1,1e-2,1e-3,1e-4,1e-5],'epsilon':[0.1,0.2,0.3,0.4]}\n",
    "svr = SVR()\n",
    "clf = GridSearchCV(svr, parameters)#tune hyperparameter\n",
    "clf.fit(X_train,y_train[\"R_t-estimate\"])"
   ]
  },
  {
   "cell_type": "code",
   "execution_count": 51,
   "id": "5e5f9c04",
   "metadata": {},
   "outputs": [
    {
     "data": {
      "text/plain": [
       "{'C': 1, 'epsilon': 0.2, 'gamma': 0.01, 'kernel': 'rbf'}"
      ]
     },
     "execution_count": 51,
     "metadata": {},
     "output_type": "execute_result"
    }
   ],
   "source": [
    "clf.best_params_"
   ]
  },
  {
   "cell_type": "code",
   "execution_count": 52,
   "id": "2a83a060",
   "metadata": {},
   "outputs": [
    {
     "data": {
      "text/plain": [
       "([<matplotlib.axis.XTick at 0x7fbf9df21da0>,\n",
       "  <matplotlib.axis.XTick at 0x7fbf9df21978>,\n",
       "  <matplotlib.axis.XTick at 0x7fbfa2c39240>,\n",
       "  <matplotlib.axis.XTick at 0x7fbfa2c22be0>,\n",
       "  <matplotlib.axis.XTick at 0x7fbfa2c43198>,\n",
       "  <matplotlib.axis.XTick at 0x7fbfa2c430b8>,\n",
       "  <matplotlib.axis.XTick at 0x7fbfa2c43ba8>,\n",
       "  <matplotlib.axis.XTick at 0x7fbfa2c43710>],\n",
       " [Text(0.0, 0, 'windspeed'),\n",
       "  Text(1.0, 0, 'cancel_public_event'),\n",
       "  Text(2.0, 0, 'restrictions_on_gatherings'),\n",
       "  Text(3.0, 0, 'visible'),\n",
       "  Text(4.0, 0, 'school_closing'),\n",
       "  Text(5.0, 0, 'internationaltravel'),\n",
       "  Text(6.0, 0, 'temperature'),\n",
       "  Text(7.0, 0, 'full_vaccination')])"
      ]
     },
     "execution_count": 52,
     "metadata": {},
     "output_type": "execute_result"
    },
    {
     "data": {
      "image/png": "[encoded data removed]",
      "text/plain": [
       "<Figure size 720x360 with 1 Axes>"
      ]
     },
     "metadata": {
      "needs_background": "light"
     },
     "output_type": "display_data"
    }
   ],
   "source": [
    "model = SVR(kernel = 'rbf', gamma = 1e-2, C = 1 , epsilon = 0.2)\n",
    "model.fit(X_train,y_train[\"R_t-estimate\"])\n",
    "perm_importance = permutation_importance(model, X_val, y_val)\n",
    "\n",
    "feature_names = ['school_closing','cancel_public_event','restrictions_on_gatherings','internationaltravel','temperature','windspeed','full_vaccination','visible']\n",
    "#indices = np.argsort(perm_importance)[::-1]\n",
    "features = np.array(feature_names)\n",
    "\n",
    "sorted_idx = perm_importance.importances_mean.argsort()\n",
    "plt.figure(figsize=(10,5))\n",
    "plt.title(\"Feature importances_UK_ SVR\")\n",
    "plt.bar(features[sorted_idx], perm_importance.importances_mean[sorted_idx],color=\"b\",align=\"center\")\n",
    "plt.xticks(features[sorted_idx], features[sorted_idx], rotation='vertical')"
   ]
  },
  {
   "cell_type": "code",
   "execution_count": 53,
   "id": "1b69b67a",
   "metadata": {},
   "outputs": [
    {
     "name": "stdout",
     "output_type": "stream",
     "text": [
      "Validation Infected set Mean_Squared_Error: 0.12903652854140066,R-Squared:0.3064798704844597,mean_absolute_error:0.28037477685817747\n"
     ]
    }
   ],
   "source": [
    "mse=mean_squared_error(y_val[\"R_t-estimate\"], model.predict(X_val))\n",
    "r2 = r2_score(y_val[\"R_t-estimate\"], model.predict(X_val))\n",
    "mae = mean_absolute_error (y_val[\"R_t-estimate\"], model.predict(X_val))\n",
    "print(\"Validation Infected set Mean_Squared_Error: {},R-Squared:{},mean_absolute_error:{}\".format(mse,r2,mae))"
   ]
  },
  {
   "cell_type": "markdown",
   "id": "be64a2c7",
   "metadata": {},
   "source": [
    "<font size=3 color=black > DecisionTreeRegressor </font>"
   ]
  },
  {
   "cell_type": "code",
   "execution_count": 54,
   "id": "6e359068",
   "metadata": {},
   "outputs": [
    {
     "name": "stdout",
     "output_type": "stream",
     "text": [
      "0.19423290415218944\n",
      "DecisionTreeRegressor(criterion='mae', max_depth=6, max_leaf_nodes=20)\n",
      "{'criterion': 'mae', 'max_depth': 6, 'max_leaf_nodes': 20, 'min_samples_leaf': 1}\n"
     ]
    }
   ],
   "source": [
    "algorithm = DecisionTreeRegressor()\n",
    "seed = 13\n",
    "kfold = KFold(n_splits=3, shuffle=True, random_state=seed)\n",
    "hp_candidates = [{\"criterion\": [\"mse\", \"mae\"],\n",
    "              \"max_depth\": [1,2,3,4,5, 6,7, 8,9,10],\n",
    "              \"max_leaf_nodes\": [5, 15,20,30, 40,50],\n",
    "              \"min_samples_leaf\": [1, 2,3,4]\n",
    "                     \n",
    "              }]\n",
    "grid = GridSearchCV(estimator=algorithm, param_grid=hp_candidates, cv=kfold, scoring='r2')\n",
    "grid.fit(X_train,y_train[\"R_t-estimate\"])\n",
    "# Get the results\n",
    "print(grid.best_score_)\n",
    "print(grid.best_estimator_)\n",
    "print(grid.best_params_)"
   ]
  },
  {
   "cell_type": "code",
   "execution_count": 55,
   "id": "ed6f576b",
   "metadata": {},
   "outputs": [
    {
     "name": "stdout",
     "output_type": "stream",
     "text": [
      "Validation Infected set Mean_Squared_Error: 0.11384883177570093,R-Squared:0.3881077129803261,mean_absolute_error:0.27565420560747667\n"
     ]
    }
   ],
   "source": [
    "model_dec = DecisionTreeRegressor(max_depth = 6, max_leaf_nodes = 20, min_samples_leaf = 1, criterion=\"mae\")\n",
    "model_dec.fit(X_train, y_train[\"R_t-estimate\"])\n",
    "mse=mean_squared_error(y_val[\"R_t-estimate\"], model_dec.predict(X_val))\n",
    "r2 = r2_score(y_val[\"R_t-estimate\"], model_dec.predict(X_val))\n",
    "mae = mean_absolute_error (y_val[\"R_t-estimate\"], model_dec.predict(X_val))\n",
    "print(\"Validation Infected set Mean_Squared_Error: {},R-Squared:{},mean_absolute_error:{}\".format(mse,r2,mae))"
   ]
  },
  {
   "cell_type": "code",
   "execution_count": 56,
   "id": "fe8444bc",
   "metadata": {},
   "outputs": [
    {
     "name": "stdout",
     "output_type": "stream",
     "text": [
      "Feature ranking:\n",
      "1, Feature: full_vaccination, Importance: 0.38323080428343514\n",
      "2, Feature: temperature, Importance: 0.29642287537024437\n",
      "3, Feature: school_closing, Importance: 0.11756664388243279\n",
      "4, Feature: windspeed, Importance: 0.08863066757803614\n",
      "5, Feature: internationaltravel, Importance: 0.05536568694463486\n",
      "6, Feature: restrictions_on_gatherings, Importance: 0.03167008430166328\n",
      "7, Feature: visible, Importance: 0.02711323763955345\n",
      "8, Feature: cancel_public_events, Importance: 0.0\n"
     ]
    },
    {
     "data": {
      "text/plain": [
       "<Figure size 720x360 with 0 Axes>"
      ]
     },
     "metadata": {},
     "output_type": "display_data"
    },
    {
     "data": {
      "image/png": "[encoded data removed]",
      "text/plain": [
       "<Figure size 432x288 with 1 Axes>"
      ]
     },
     "metadata": {
      "needs_background": "light"
     },
     "output_type": "display_data"
    }
   ],
   "source": [
    "show_feature_importance_dec(model_dec)"
   ]
  },
  {
   "cell_type": "markdown",
   "id": "10904256",
   "metadata": {},
   "source": [
    "<font size=3 color=black > KNeighborsRegressor </font>"
   ]
  },
  {
   "cell_type": "code",
   "execution_count": 57,
   "id": "acf1bcb8",
   "metadata": {},
   "outputs": [
    {
     "name": "stdout",
     "output_type": "stream",
     "text": [
      "0.27155235470412836\n",
      "KNeighborsRegressor(leaf_size=9, n_neighbors=9, p=1, weights='distance')\n",
      "{'leaf_size': 9, 'n_neighbors': 9, 'p': 1, 'weights': 'distance'}\n"
     ]
    }
   ],
   "source": [
    "algorithm = KNeighborsRegressor()\n",
    "leaf_size = list(range(1,10))\n",
    "n_neighbors = list(range(1,10))\n",
    "p=[1,2]\n",
    "weights= ['uniform','distance']\n",
    "hyperparameters = dict(leaf_size=leaf_size, n_neighbors=n_neighbors, p = p, weights = weights)\n",
    "grid = GridSearchCV(estimator=algorithm, param_grid=hyperparameters, cv=kfold, scoring='r2')\n",
    "grid.fit(X_train, y_train[\"R_t-estimate\"])\n",
    "print(grid.best_score_)\n",
    "print(grid.best_estimator_)\n",
    "print(grid.best_params_)"
   ]
  },
  {
   "cell_type": "code",
   "execution_count": 58,
   "id": "3237914d",
   "metadata": {},
   "outputs": [],
   "source": [
    "model_knn = KNeighborsRegressor(leaf_size=9, n_neighbors=9, p=1, weights='distance')\n",
    "model_knn.fit(X_train, y_train[\"R_t-estimate\"])\n",
    "result_knn = model_knn.predict(X_val)"
   ]
  },
  {
   "cell_type": "code",
   "execution_count": 59,
   "id": "2419b63f",
   "metadata": {},
   "outputs": [
    {
     "name": "stdout",
     "output_type": "stream",
     "text": [
      "Validation Infected set Mean_Squared_Error: 0.14331252658105054,R-Squared:0.2297520468105223,mean_absolute_error:0.29326162738216427\n"
     ]
    }
   ],
   "source": [
    "mse_knn=mean_squared_error(y_val[\"R_t-estimate\"], model_knn.predict(X_val))\n",
    "r2_knn= r2_score(y_val[\"R_t-estimate\"], model_knn.predict(X_val))\n",
    "mae_knn = mean_absolute_error (y_val[\"R_t-estimate\"], model_knn.predict(X_val))\n",
    "print(\"Validation Infected set Mean_Squared_Error: {},R-Squared:{},mean_absolute_error:{}\".format(mse_knn,r2_knn,mae_knn))"
   ]
  },
  {
   "cell_type": "code",
   "execution_count": 60,
   "id": "aa564e67",
   "metadata": {},
   "outputs": [],
   "source": [
    "model_knn = model_knn.fit(X, y[\"R_t-estimate\"])"
   ]
  },
  {
   "cell_type": "code",
   "execution_count": 61,
   "id": "bbab7319",
   "metadata": {},
   "outputs": [
    {
     "name": "stdout",
     "output_type": "stream",
     "text": [
      "Feature ranking:\n",
      "1, Feature: temperature, Importance: 0.1485193022451868\n",
      "2, Feature: full_vaccination, Importance: 0.14452440972182423\n",
      "3, Feature: windspeed, Importance: 0.07202639908165895\n",
      "4, Feature: internationaltravel, Importance: 0.05460128937050575\n",
      "5, Feature: school_closing, Importance: 0.04219541915442546\n",
      "6, Feature: visible, Importance: 0.03493572041547356\n",
      "7, Feature: cancel_public_events, Importance: 0.005790675928029266\n",
      "8, Feature: restrictions_on_gatherings, Importance: 0.004991644490322027\n"
     ]
    },
    {
     "data": {
      "text/plain": [
       "<Figure size 720x360 with 0 Axes>"
      ]
     },
     "metadata": {},
     "output_type": "display_data"
    },
    {
     "data": {
      "image/png": "[encoded data removed]",
      "text/plain": [
       "<Figure size 432x288 with 1 Axes>"
      ]
     },
     "metadata": {
      "needs_background": "light"
     },
     "output_type": "display_data"
    }
   ],
   "source": [
    "show_feature_importance_knn(model_knn)"
   ]
  },
  {
   "cell_type": "markdown",
   "id": "3fb6feff",
   "metadata": {},
   "source": [
    "<font size=3 color=black > LGBMRegressor </font>"
   ]
  },
  {
   "cell_type": "code",
   "execution_count": 62,
   "id": "8ec82d03",
   "metadata": {},
   "outputs": [
    {
     "name": "stdout",
     "output_type": "stream",
     "text": [
      "Fitting 5 folds for each of 2240 candidates, totalling 11200 fits\n",
      "-0.11180756858195895\n",
      "LGBMRegressor(boosting_type='dart', max_depth=10, n_estimators=40,\n",
      "              num_leaves=20)\n",
      "{'boosting_type': 'dart', 'learning_rate': 0.1, 'max_depth': 10, 'n_estimators': 40, 'num_leaves': 20}\n"
     ]
    },
    {
     "name": "stderr",
     "output_type": "stream",
     "text": [
      "/opt/anaconda3/envs/keras/lib/python3.6/site-packages/sklearn/model_selection/_search.py:925: UserWarning: One or more of the test scores are non-finite: [-0.13078183 -0.12372609 -0.12369909 ...         nan         nan\n",
      "         nan]\n",
      "  category=UserWarning\n"
     ]
    }
   ],
   "source": [
    "params_test1 = [{'boosting_type':['gbdt', 'dart', 'goss', 'rf'],\n",
    "                 'num_leaves':[5,10,20,30],'max_depth':[4,5,6,7,8,9,10], \n",
    "                 'learning_rate':[0.05,0.1,0.2,0.3],\n",
    "                 'n_estimators':[30,40,50,60,70]}]\n",
    "model_lgb = lgb.LGBMRegressor()\n",
    "grid = GridSearchCV(estimator=model_lgb, param_grid=params_test1, scoring='neg_mean_squared_error', cv=5, verbose=1, n_jobs=4)\n",
    "grid.fit(X_train,y_train[\"R_t-estimate\"])#tune hyperparameter\n",
    "print(grid.best_score_)\n",
    "print(grid.best_estimator_)\n",
    "print(grid.best_params_)"
   ]
  },
  {
   "cell_type": "code",
   "execution_count": 63,
   "id": "c35eee14",
   "metadata": {},
   "outputs": [
    {
     "data": {
      "text/plain": [
       "LGBMRegressor(boosting_type='dart', max_depth=10, metric='rmse',\n",
       "              n_estimators=40, num_leaves=20)"
      ]
     },
     "execution_count": 63,
     "metadata": {},
     "output_type": "execute_result"
    }
   ],
   "source": [
    "model = lgb.LGBMRegressor(boosting_type='dart', num_leaves = 20,\n",
    "                                learning_rate=0.1, n_estimators=40, max_depth=10,\n",
    "                                metric='rmse')\n",
    "\n",
    "model.fit(X, y[\"R_t-estimate\"])"
   ]
  },
  {
   "cell_type": "code",
   "execution_count": 64,
   "id": "bb2f4e3d",
   "metadata": {},
   "outputs": [
    {
     "name": "stdout",
     "output_type": "stream",
     "text": [
      "Feature ranking:\n",
      "1, Feature: temperature, Importance: 210\n",
      "2, Feature: full_vaccination, Importance: 193\n",
      "3, Feature: windspeed, Importance: 130\n",
      "4, Feature: visible, Importance: 108\n",
      "5, Feature: school_closing, Importance: 43\n",
      "6, Feature: internationaltravel, Importance: 29\n",
      "7, Feature: restrictions_on_gatherings, Importance: 0\n",
      "8, Feature: cancel_public_events, Importance: 0\n"
     ]
    },
    {
     "data": {
      "text/plain": [
       "<Figure size 720x360 with 0 Axes>"
      ]
     },
     "metadata": {},
     "output_type": "display_data"
    },
    {
     "data": {
      "text/plain": [
       "<Figure size 720x360 with 0 Axes>"
      ]
     },
     "metadata": {},
     "output_type": "display_data"
    },
    {
     "data": {
      "text/plain": [
       "<Figure size 720x360 with 0 Axes>"
      ]
     },
     "metadata": {},
     "output_type": "display_data"
    },
    {
     "data": {
      "text/plain": [
       "<Figure size 720x360 with 0 Axes>"
      ]
     },
     "metadata": {},
     "output_type": "display_data"
    },
    {
     "data": {
      "text/plain": [
       "<Figure size 720x360 with 0 Axes>"
      ]
     },
     "metadata": {},
     "output_type": "display_data"
    },
    {
     "data": {
      "text/plain": [
       "<Figure size 720x360 with 0 Axes>"
      ]
     },
     "metadata": {},
     "output_type": "display_data"
    },
    {
     "data": {
      "text/plain": [
       "<Figure size 720x360 with 0 Axes>"
      ]
     },
     "metadata": {},
     "output_type": "display_data"
    },
    {
     "data": {
      "text/plain": [
       "<Figure size 720x360 with 0 Axes>"
      ]
     },
     "metadata": {},
     "output_type": "display_data"
    },
    {
     "data": {
      "image/png": "[encoded data removed]",
      "text/plain": [
       "<Figure size 432x288 with 1 Axes>"
      ]
     },
     "metadata": {
      "needs_background": "light"
     },
     "output_type": "display_data"
    }
   ],
   "source": [
    "show_feature_importance_LGBMR(model)"
   ]
  },
  {
   "cell_type": "code",
   "execution_count": 65,
   "id": "ef29c1aa",
   "metadata": {},
   "outputs": [
    {
     "name": "stdout",
     "output_type": "stream",
     "text": [
      "Validation Infected set Mean_Squared_Error: 0.07836451466689537,R-Squared:0.5788218345956921,mean_absolute_error:0.22668166817675586\n"
     ]
    }
   ],
   "source": [
    "mse=mean_squared_error(y_val[\"R_t-estimate\"], model.predict(X_val))\n",
    "r2 = r2_score(y_val[\"R_t-estimate\"], model.predict(X_val))\n",
    "mae = mean_absolute_error (y_val[\"R_t-estimate\"], model.predict(X_val))\n",
    "print(\"Validation Infected set Mean_Squared_Error: {},R-Squared:{},mean_absolute_error:{}\".format(mse,r2,mae))"
   ]
  },
  {
   "cell_type": "code",
   "execution_count": null,
   "id": "92719d69",
   "metadata": {},
   "outputs": [],
   "source": []
  }
 ],
 "metadata": {
  "kernelspec": {
   "display_name": "keras",
   "language": "python",
   "name": "keras"
  },
  "language_info": {
   "codemirror_mode": {
    "name": "ipython",
    "version": 3
   },
   "file_extension": ".py",
   "mimetype": "text/x-python",
   "name": "python",
   "nbconvert_exporter": "python",
   "pygments_lexer": "ipython3",
   "version": "3.6.12"
  }
 },
 "nbformat": 4,
 "nbformat_minor": 5
}
